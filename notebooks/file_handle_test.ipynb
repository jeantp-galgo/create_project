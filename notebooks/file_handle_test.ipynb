{
 "cells": [
  {
   "cell_type": "code",
   "execution_count": 1,
   "id": "6d2cb6b8",
   "metadata": {},
   "outputs": [],
   "source": [
    "import os\n",
    "import sys\n",
    "sys.path.append('../')"
   ]
  },
  {
   "cell_type": "code",
   "execution_count": 2,
   "id": "f667aaf2",
   "metadata": {},
   "outputs": [],
   "source": [
    "ruta = r\"C:\\Users\\JTRUJILLO\\Desktop\"\n",
    "ruta_con_carpeta = os.path.join(ruta, \"carpeta_test\")"
   ]
  },
  {
   "cell_type": "code",
   "execution_count": 3,
   "id": "f35310d0",
   "metadata": {},
   "outputs": [],
   "source": [
    "params = {\n",
    "    \"project_name\": \"proyecto_test\",\n",
    "    \"servicios\": [\"mongodb\", \"google_sheets\", \"base_inventario\"]\n",
    "}"
   ]
  },
  {
   "cell_type": "code",
   "execution_count": 4,
   "id": "95d65d07",
   "metadata": {},
   "outputs": [],
   "source": [
    "def create_directory(ruta):\n",
    "    if not os.path.exists(ruta):\n",
    "        os.mkdir(ruta)\n",
    "        print(\"Directorio %s creado!\" % ruta)\n",
    "        return True\n",
    "    else:\n",
    "        print(\"Directorio %s ya existe\" % ruta)\n",
    "        return False"
   ]
  },
  {
   "cell_type": "code",
   "execution_count": 5,
   "id": "0fa64cc8",
   "metadata": {},
   "outputs": [],
   "source": [
    "def create_directory_base(project_name):\n",
    "    main_directory_path = os.path.join(ruta, project_name)\n",
    "    create_directory(main_directory_path)\n",
    "    return main_directory_path"
   ]
  },
  {
   "cell_type": "code",
   "execution_count": 6,
   "id": "adf0f98a",
   "metadata": {},
   "outputs": [],
   "source": [
    "def create_file(ruta, nombre_archivo, contenido):\n",
    "    with open(os.path.join(ruta, nombre_archivo), \"w\") as f:\n",
    "        f.write(contenido)\n",
    "    print(\"Archivo %s creado!\" % nombre_archivo)\n",
    "    return True\n"
   ]
  },
  {
   "cell_type": "code",
   "execution_count": 7,
   "id": "ddb2b596",
   "metadata": {},
   "outputs": [],
   "source": [
    "def create_basic_files(main_directory_path):\n",
    "    from src.templates.git_template import GitTemplate\n",
    "    create_file(main_directory_path, \"README.md\", \"Proyecto de prueba\")\n",
    "    create_file(main_directory_path, \"requirements.txt\", \"Proyecto de prueba\")\n",
    "    create_file(main_directory_path, \".gitignore\", GitTemplate.gitignore_content())"
   ]
  },
  {
   "cell_type": "code",
   "execution_count": 8,
   "id": "fe7afc11",
   "metadata": {},
   "outputs": [
    {
     "name": "stdout",
     "output_type": "stream",
     "text": [
      "Directorio C:\\Users\\JTRUJILLO\\Desktop\\proyecto_test ya existe\n",
      "Archivo README.md creado!\n",
      "Archivo requirements.txt creado!\n",
      "Archivo .gitignore creado!\n"
     ]
    }
   ],
   "source": [
    "main_directory_path = create_directory_base(params[\"project_name\"])\n",
    "create_basic_files(main_directory_path)\n",
    "# for servicio in params[\"servicios\"]:\n",
    "#     ruta_servicio = os.path.join(main_directory_path, servicio)\n",
    "#     if not os.path.exists(ruta_servicio):\n",
    "#         os.mkdir(ruta_servicio)\n",
    "#         print(\"Directorio %s creado!\" % ruta_servicio)"
   ]
  },
  {
   "cell_type": "code",
   "execution_count": null,
   "id": "19904f55",
   "metadata": {},
   "outputs": [],
   "source": []
  },
  {
   "cell_type": "code",
   "execution_count": null,
   "id": "d7df99f9",
   "metadata": {},
   "outputs": [],
   "source": []
  }
 ],
 "metadata": {
  "kernelspec": {
   "display_name": "venv",
   "language": "python",
   "name": "python3"
  },
  "language_info": {
   "codemirror_mode": {
    "name": "ipython",
    "version": 3
   },
   "file_extension": ".py",
   "mimetype": "text/x-python",
   "name": "python",
   "nbconvert_exporter": "python",
   "pygments_lexer": "ipython3",
   "version": "3.11.0"
  }
 },
 "nbformat": 4,
 "nbformat_minor": 5
}
